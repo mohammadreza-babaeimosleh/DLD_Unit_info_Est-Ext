{
 "cells": [
  {
   "cell_type": "code",
   "execution_count": 7,
   "metadata": {},
   "outputs": [
    {
     "name": "stdout",
     "output_type": "stream",
     "text": [
      "  Col1 Col2\n",
      "1    3   30\n"
     ]
    }
   ],
   "source": [
    "import pandas as pd\n",
    "import re\n",
    "\n",
    "# Create the first DataFrame\n",
    "df1 = pd.DataFrame({'Col1': [\"1\", \"2\", \"3\", \"90u08\"], 'Col2': [\"10\", \"20\", \"30\", \"999\"], 'Col3': ['A', 'B', 'C', \"d\"]})\n",
    "\n",
    "# Create the second DataFrame\n",
    "df2 = pd.DataFrame({'Col1': [\"2\", \"3\", \"4\", \"kkjk\"], 'Col2': [\"20 4050\", \"30\", \"40\", \"fsdsgfd\"]})\n",
    "\n",
    "# Iterate over the rows of df2 and check if each value in 'Col2' is present in df1['Col2']\n",
    "merged_df = df2[df2[\"Col2\"].isin(df1[\"Col2\"])]\n",
    "\n",
    "print(merged_df)"
   ]
  },
  {
   "cell_type": "code",
   "execution_count": 3,
   "metadata": {},
   "outputs": [
    {
     "name": "stdout",
     "output_type": "stream",
     "text": [
      "gooz7\n",
      "['CL6-634', 'L6-635', 'L6-636', 'L6-637', 'L6-638', 'L6-639', 'L6-640', 'L6-M-716']\n"
     ]
    }
   ],
   "source": [
    "import re\n",
    "\n",
    "string1=\"10, 12\"\n",
    "string2=\"B-15, 16, 17\"\n",
    "string3 = \"G C 331\"\n",
    "string4= \"M/ 18&19\"\n",
    "string5= \"Ma/ 20&G 32\"\n",
    "string6 = \"B-FB5-1 TO B-FB5-8\"\n",
    "string7= \"B-13, B17, T-5-15\"\n",
    "string8 = \" B3-39 TO B3-63 B3-65 TO B3-66 B3-68 TO B3-94 P1-15, P1-16, P5-18, B3-1 TO B3-16\"\n",
    "string8_1 = \"G-26 TO G-29\"\n",
    "string9 = \"B/A-157, C/D-67 , P2/A-13\"\n",
    "\n",
    "\n",
    "\n",
    "string=\"CL6-634,L6-635,L6-636,L6-637,L6-638,L6-639,L6-640,L6-M-716\"\n",
    "\n",
    "# 10, 12 | 10 12\n",
    "if re.match(r\"^(\\d+)\\s?-?,?\\s?&?(\\d+\\s?,?-?&?\\s?)*$\", string):\n",
    "    print(\"gooz1\")\n",
    "    match = re.findall(r\"\\d+\", string)\n",
    "    print(match)\n",
    "\n",
    "# B-15, 16, 17\n",
    "elif re.match(r\"^(\\w+-?\\s?)(\\d+\\s?-?,?.?\\s?)*$\", string):\n",
    "    print(\"gooz2\")\n",
    "    match1 = re.findall(r\"^(\\w+)\", string)\n",
    "    match2 = re.findall(r\"\\d+\", string)\n",
    "    match = []\n",
    "    for st in match2:\n",
    "        match.append(match1[0] + \"-\" + st)\n",
    "    print(match)\n",
    "\n",
    "# \"G C 331\"\n",
    "elif re.match(r\"^\\w(\\s\\w)*\\d+$\", string):\n",
    "    print(\"gooz3\")\n",
    "    match1 = re.findall(r\"([a-zA-Z])\", string)\n",
    "    match2 = re.findall(r\"(\\d+)\", string)\n",
    "    match = []\n",
    "    for P_al in match1:\n",
    "        for P_no in match2:\n",
    "            match.append(P_al + \"-\" + P_no)\n",
    "    print(match)\n",
    "\n",
    "# M/ 18&19\n",
    "elif re.match(r\"^(\\w+\\s?/\\s?)(\\d+\\s?&?)(\\d+\\s?&?)*$\", string):\n",
    "    print(\"gooz4\")\n",
    "    match1 = re.findall(r\"(\\w+)\", string)\n",
    "    match2 = re.findall(r\"\\d+\", string)\n",
    "    match = []\n",
    "    for st in match2:\n",
    "        match.append(match1[0] + \"-\" + st)\n",
    "    print(match)\n",
    "\n",
    "# \"Ma/ 20&G 32\"\n",
    "elif re.match(r\"^(\\w+\\s?/\\s?)(\\d+\\s?&)((\\w+\\s?-?\\d+)(\\s?&?-?))*$\", string):\n",
    "    print(\"gooz5\")\n",
    "    match1 = re.findall(r\"([a-zA-Z]+)\", string)\n",
    "    match2 = re.findall(r\"\\d+\", string)\n",
    "    match = []\n",
    "    for i in range(len(match2)):\n",
    "        match.append(match1[i] + \"-\" + match2[i])\n",
    "    print(match)\n",
    "\n",
    "#\"B-FB5-1 TO B-FB5-8\"\n",
    "elif re.match(r\"\\w+-\\w+-\\d+\\s?(?i:to)\\s?\\w+-\\w+-\\d+\", string):\n",
    "    print(\"gooz6\")\n",
    "    match1 = re.findall(r\"(\\w+-\\w+)-(\\d+)\", string)\n",
    "    F = match1[0][0]\n",
    "    start = int(match1[0][1])\n",
    "    end = int(match1[1][1])\n",
    "    match = []\n",
    "    for j in range(start, end + 1):\n",
    "        match.append(F + \"-\" + str(j))\n",
    "    print(match)\n",
    "    \n",
    "\n",
    "\n",
    "# B-13, B17, T-5-15    G-26 TO G-29    G-028,G-T01     CL6-669  6-M-721\n",
    "elif re.match(r\"((\\w+-?\\s?\\w+-?\\s?\\w+)\\s?-?,?&?.?\\s?)*$\", string):\n",
    "    print(\"gooz7\")\n",
    "    if \"TO\" in string:\n",
    "        match1 = re.findall(r\"(\\w+-?\\s?\\w+)\\s?-?\\s?((?i:to))\\s?(\\w+-?\\s?\\w+)\\s?-?\", string)\n",
    "        F, start = match1[0][0].split(\"-\")\n",
    "        _, end = match1[0][2].split(\"-\")\n",
    "        start = int(start)\n",
    "        end = int(end)\n",
    "        match = []\n",
    "        for j in range(start, end + 1):\n",
    "            match.append(F + \"-\" + str(j))\n",
    "        print(match)\n",
    "    else:\n",
    "        match =re.findall(r\"\\w+-?\\s?\\w+-?\\s?\\w+\\b\", string)\n",
    "        print(match)\n",
    "\n",
    "# B3-39 TO B3-63 B3-65 TO B3-66 B3-68 TO B3-94 P1-15,P1-16, P5-18,  B3-1 TO B3-16\n",
    "elif re.match(r\"^(\\s?\\w+-?\\s?\\w+\\s?-?)((?i:to))?(\\s?\\w+-?\\s?\\w+\\s?-?)((\\s?\\w+-?\\s?\\w+\\s?-?)(,?\\s?)((?i:to))?(\\s?\\w+-?\\s?\\w+\\s?-?)?)*\", string):\n",
    "    print(\"gooz8\")\n",
    "    match1 = [x[0] for x in re.findall(r\"(\\w+-?\\s?\\w+)\\s?-?\\s?((?i:to))\", string)]\n",
    "    match2 = [x[1] for x in re.findall(r\"((?i:to))\\s?(\\w+-?\\s?\\w+)\\s?-?\", string)]\n",
    "    match = [x for x in re.findall(r\"\\b\\w+-?\\d+-\\d+\\b\", string) if ((x not in match1) and (x not in match2))]\n",
    "    for i in range(len(match1)):\n",
    "        F, start = match1[i].split(\"-\")\n",
    "        _, end = match2[i].split(\"-\")\n",
    "        start = int(start)\n",
    "        end = int(end)\n",
    "        for j in range(start, end + 1):\n",
    "            match.append(F + \"-\" + str(j))\n",
    "\n",
    "    print(match)\n",
    "\n",
    "\n",
    "# B/A-157, C/D-67\n",
    "elif re.match(r\"(\\w+/\\w+-?\\s?\\d)(\\s?&?,?\\s?)*\", string):\n",
    "    print(\"gooz9\")\n",
    "    match1 = re.findall(r\"\\w+/[a-zA-Z]\", string)\n",
    "    match2 = re.findall(r\"\\w+-(\\d+)\", string)\n",
    "    print(match1)\n",
    "    print(match2)\n",
    "    match = set()\n",
    "    for P_al in match1:\n",
    "        alpha = P_al.split(\"/\")\n",
    "        for j in alpha:\n",
    "            for k in match2:\n",
    "                match.add(j + \"-\" + k)\n",
    "\n",
    "    match = list(match)\n",
    "    print(match)\n",
    "\n",
    "#NAN, Attached"
   ]
  },
  {
   "cell_type": "code",
   "execution_count": 1,
   "metadata": {},
   "outputs": [],
   "source": [
    "def batch_data_loader(filename, batch_size=1000000):\n",
    "    df = pd.DataFrame()\n",
    "    for chunk in pd.read_csv(DATA_DIR / filename, chunksize=batch_size):\n",
    "        df = pd.concat([df, chunk])\n",
    "\n",
    "    return df"
   ]
  },
  {
   "cell_type": "code",
   "execution_count": 3,
   "metadata": {},
   "outputs": [
    {
     "name": "stdout",
     "output_type": "stream",
     "text": [
      "0     True\n",
      "1    False\n",
      "2     True\n",
      "3    False\n",
      "4     True\n",
      "Name: floor, dtype: bool\n"
     ]
    }
   ],
   "source": [
    "import pandas as pd\n",
    "\n",
    "# Create a sample DataFrame\n",
    "data = {'Place': ['A', 'B', 'C', 'D', 'E'],\n",
    "        'floor': [6, 4, 6, 8, 6]}\n",
    "df = pd.DataFrame(data)\n",
    "\n",
    "# Filter the DataFrame for rows where 'Floor' is equal to 6\n",
    "filtered_df = df[\"floor\"] == 6\n",
    "\n",
    "# Print the place map\n",
    "print(filtered_df)"
   ]
  },
  {
   "cell_type": "code",
   "execution_count": 5,
   "metadata": {},
   "outputs": [
    {
     "data": {
      "text/plain": [
       "True"
      ]
     },
     "execution_count": 5,
     "metadata": {},
     "output_type": "execute_result"
    }
   ],
   "source": [
    "valid_floors = [\"G\"] + list(map(str, range(1, 41)))\n",
    "\"6\" in valid_floors"
   ]
  },
  {
   "cell_type": "code",
   "execution_count": 1,
   "metadata": {},
   "outputs": [
    {
     "data": {
      "text/plain": [
       "'1.23.5'"
      ]
     },
     "execution_count": 1,
     "metadata": {},
     "output_type": "execute_result"
    }
   ],
   "source": [
    "import numpy\n",
    "numpy.__version__"
   ]
  },
  {
   "cell_type": "code",
   "execution_count": null,
   "metadata": {},
   "outputs": [],
   "source": []
  }
 ],
 "metadata": {
  "kernelspec": {
   "display_name": "base",
   "language": "python",
   "name": "python3"
  },
  "language_info": {
   "codemirror_mode": {
    "name": "ipython",
    "version": 3
   },
   "file_extension": ".py",
   "mimetype": "text/x-python",
   "name": "python",
   "nbconvert_exporter": "python",
   "pygments_lexer": "ipython3",
   "version": "3.10.9"
  },
  "orig_nbformat": 4
 },
 "nbformat": 4,
 "nbformat_minor": 2
}
